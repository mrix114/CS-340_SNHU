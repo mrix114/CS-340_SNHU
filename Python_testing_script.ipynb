{
 "cells": [
  {
   "cell_type": "code",
   "execution_count": 1,
   "metadata": {},
   "outputs": [],
   "source": [
    "from animal_shelter import AnimalShelter"
   ]
  },
  {
   "cell_type": "code",
   "execution_count": 2,
   "metadata": {},
   "outputs": [],
   "source": [
    "shelter = AnimalShelter(\"aacuser\", \"austin\")"
   ]
  },
  {
   "cell_type": "code",
   "execution_count": 3,
   "metadata": {},
   "outputs": [],
   "source": [
    "data = {\n",
    "    \"age_upon_outcome\":\"2 years\", \n",
    "    \"animal_type\":\"Dog\",\n",
    "    \"breed\" : \"Domestic Shorthair Mix\",\n",
    "    \"color\" : \"Brown\",\n",
    "    \"date_of_birth\" : \"2019-03-09\",\n",
    "    \"name\" : \"Test Dog number 3\"\n",
    "}"
   ]
  },
  {
   "cell_type": "code",
   "execution_count": 4,
   "metadata": {},
   "outputs": [
    {
     "name": "stdout",
     "output_type": "stream",
     "text": [
      "animal added succesfully\n",
      "animal added\n"
     ]
    }
   ],
   "source": [
    "if shelter.create(data):\n",
    "    print(\"animal added\")\n",
    "else:\n",
    "    print(\"animal add unsuccesful\")"
   ]
  },
  {
   "cell_type": "code",
   "execution_count": 5,
   "metadata": {},
   "outputs": [
    {
     "name": "stdout",
     "output_type": "stream",
     "text": [
      "{'_id': ObjectId('632cd2b919dc9676db41e018'), 'age_upon_outcome': '2 years', 'animal_type': 'Dog', 'breed': 'Domestic Shorthair Mix', 'color': 'Brown', 'date_of_birth': '2019-03-09', 'name': 'Test Dog number 3'}\n"
     ]
    }
   ],
   "source": [
    "print(shelter.read(data))"
   ]
  },
  {
   "cell_type": "code",
   "execution_count": null,
   "metadata": {},
   "outputs": [],
   "source": []
  },
  {
   "cell_type": "code",
   "execution_count": null,
   "metadata": {},
   "outputs": [],
   "source": []
  }
 ],
 "metadata": {
  "kernelspec": {
   "display_name": "Python 3",
   "language": "python",
   "name": "python3"
  },
  "language_info": {
   "codemirror_mode": {
    "name": "ipython",
    "version": 3
   },
   "file_extension": ".py",
   "mimetype": "text/x-python",
   "name": "python",
   "nbconvert_exporter": "python",
   "pygments_lexer": "ipython3",
   "version": "3.6.9"
  }
 },
 "nbformat": 4,
 "nbformat_minor": 2
}
